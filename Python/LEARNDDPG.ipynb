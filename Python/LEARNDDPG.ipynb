{
 "cells": [
  {
   "cell_type": "code",
   "execution_count": null,
   "metadata": {},
   "outputs": [],
   "source": [
    "import torch\n",
    "import numpy as np \n",
    "import copy"
   ]
  },
  {
   "cell_type": "code",
   "execution_count": null,
   "metadata": {},
   "outputs": [],
   "source": [
    "#Set up working directory\n",
    "import os\n",
    "os.chdir(\"E:/unity/ml-agents/ml-agents-envs/\")"
   ]
  },
  {
   "cell_type": "code",
   "execution_count": null,
   "metadata": {},
   "outputs": [],
   "source": [
    "from rlkit.data_management.env_replay_buffer import EnvReplayBuffer\n",
    "from rlkit.envs.wrappers import NormalizedBoxEnv\n",
    "from rlkit.exploration_strategies.base import (\n",
    "    PolicyWrappedWithExplorationStrategy\n",
    ")\n",
    "from rlkit.exploration_strategies.ou_strategy import OUStrategy\n",
    "from rlkit.launchers.launcher_util import setup_logger\n",
    "from rlkit.samplers.data_collector import MdpPathCollector\n",
    "from rlkit.torch.networks import FlattenMlp, TanhMlpPolicy\n",
    "from rlkit.torch.ddpg.ddpg import DDPGTrainer\n",
    "import rlkit.torch.pytorch_util as ptu\n",
    "from rlkit.torch.torch_rl_algorithm import TorchBatchRLAlgorithm\n"
   ]
  },
  {
   "cell_type": "code",
   "execution_count": null,
   "metadata": {
    "scrolled": true
   },
   "outputs": [],
   "source": [
    "variant = dict(\n",
    "        algorithm_kwargs=dict(\n",
    "            num_epochs=1000,\n",
    "            num_eval_steps_per_epoch=1000,\n",
    "            num_trains_per_train_loop=1000,\n",
    "            num_expl_steps_per_train_loop=1000,\n",
    "            min_num_steps_before_training=10000,\n",
    "            max_path_length=1000,\n",
    "            batch_size=128,\n",
    "        ),\n",
    "        trainer_kwargs=dict(\n",
    "            use_soft_update=True,\n",
    "            tau=1e-2,\n",
    "            discount=0.99,\n",
    "            qf_learning_rate=1e-3,\n",
    "            policy_learning_rate=1e-4,\n",
    "        ),\n",
    "        qf_kwargs=dict(\n",
    "            hidden_sizes=[400, 300],\n",
    "        ),\n",
    "        policy_kwargs=dict(\n",
    "            hidden_sizes=[400, 300],\n",
    "        ),\n",
    "        replay_buffer_size=int(1E6),\n",
    "    )"
   ]
  },
  {
   "cell_type": "code",
   "execution_count": null,
   "metadata": {},
   "outputs": [],
   "source": [
    "obs_dim = 15\n",
    "action_dim = 6"
   ]
  },
  {
   "cell_type": "code",
   "execution_count": null,
   "metadata": {},
   "outputs": [],
   "source": [
    "eval_env = \"panda\"\n",
    "expl_env = \"panda\""
   ]
  },
  {
   "cell_type": "code",
   "execution_count": null,
   "metadata": {
    "scrolled": true
   },
   "outputs": [],
   "source": [
    "qf = FlattenMlp(\n",
    "    input_size=obs_dim + action_dim,\n",
    "    output_size=1,\n",
    "    **variant['qf_kwargs']\n",
    ")"
   ]
  },
  {
   "cell_type": "code",
   "execution_count": null,
   "metadata": {},
   "outputs": [],
   "source": [
    "policy = TanhMlpPolicy(\n",
    "    input_size=obs_dim,\n",
    "    output_size=action_dim,\n",
    "    **variant['policy_kwargs']\n",
    ")"
   ]
  },
  {
   "cell_type": "code",
   "execution_count": null,
   "metadata": {},
   "outputs": [],
   "source": [
    "target_qf = copy.deepcopy(qf)\n",
    "target_policy = copy.deepcopy(policy)"
   ]
  },
  {
   "cell_type": "code",
   "execution_count": null,
   "metadata": {
    "scrolled": true
   },
   "outputs": [],
   "source": [
    "eval_path_collector = MdpPathCollector(eval_env, policy)"
   ]
  },
  {
   "cell_type": "code",
   "execution_count": null,
   "metadata": {},
   "outputs": [],
   "source": [
    "exploration_policy = PolicyWrappedWithExplorationStrategy(\n",
    "    exploration_strategy=OUStrategy(action_space=),\n",
    "    policy=policy,\n",
    ")"
   ]
  },
  {
   "cell_type": "code",
   "execution_count": null,
   "metadata": {},
   "outputs": [],
   "source": []
  }
 ],
 "metadata": {
  "kernelspec": {
   "display_name": "Python 3",
   "language": "python",
   "name": "python3"
  },
  "language_info": {
   "codemirror_mode": {
    "name": "ipython",
    "version": 3
   },
   "file_extension": ".py",
   "mimetype": "text/x-python",
   "name": "python",
   "nbconvert_exporter": "python",
   "pygments_lexer": "ipython3",
   "version": "3.7.4"
  }
 },
 "nbformat": 4,
 "nbformat_minor": 2
}
